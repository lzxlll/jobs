{
 "cells": [
  {
   "cell_type": "code",
   "execution_count": 98,
   "id": "multiple-heath",
   "metadata": {},
   "outputs": [
    {
     "name": "stderr",
     "output_type": "stream",
     "text": [
      "Paddle enabled successfully......\n"
     ]
    }
   ],
   "source": [
    "from gensim import corpora, models, similarities\n",
    "from gensim.models import Word2Vec,keyedvectors \n",
    "from gensim.models.word2vec import LineSentence\n",
    "from gensim.corpora import Dictionary\n",
    "import jieba.posseg as jp, jieba\n",
    "import pandas as pd\n",
    "import numpy as np\n",
    "from string import punctuation\n",
    "\n",
    "jieba.enable_paddle()\n",
    "\n",
    "add_punc='，。、【 】 “”：；（）《》‘’{}？！⑦()、%^>℃：.”“^-——=&#@￥'\n",
    "all_punc=punctuation+add_punc"
   ]
  },
  {
   "cell_type": "code",
   "execution_count": 44,
   "id": "elementary-taxation",
   "metadata": {},
   "outputs": [],
   "source": [
    "model_path='./model/baike_26g_news_13g_novel_229g.model'\n",
    "job_path='./model/职业分类大典.xlsx'\n",
    "\n",
    "test_input=\"前台行政\""
   ]
  },
  {
   "cell_type": "code",
   "execution_count": 4,
   "id": "square-trance",
   "metadata": {},
   "outputs": [],
   "source": [
    "model=Word2Vec.load(model_path)\n",
    "word_vectors = model.wv"
   ]
  },
  {
   "cell_type": "code",
   "execution_count": 102,
   "id": "portuguese-permission",
   "metadata": {},
   "outputs": [],
   "source": [
    "#jieba精准分词\n",
    "def jieba_cut(sentence):\n",
    "    word_list = []\n",
    "    seg_list = jieba.cut_for_search(sentence)\n",
    "    for word in seg_list:\n",
    "        if word != '' and word is not None and word not in all_punc:\n",
    "            word_list.append(word)\n",
    "    return word_list\n"
   ]
  },
  {
   "cell_type": "code",
   "execution_count": 103,
   "id": "norwegian-designation",
   "metadata": {},
   "outputs": [],
   "source": [
    "# Load job list\n",
    "data = pd.read_excel(job_path, keep_default_na=False)\n",
    "job_dictionary = pd.DataFrame(data, columns= ['中类'])\n",
    "job_dictionary.replace('', np.nan, inplace=True)\n",
    "job_dictionary.dropna(inplace=True)\n",
    "job_dictionary.drop_duplicates(keep='first',inplace=True)\n",
    "jobs = job_dictionary.values.tolist()"
   ]
  },
  {
   "cell_type": "code",
   "execution_count": 108,
   "id": "applied-butter",
   "metadata": {},
   "outputs": [
    {
     "name": "stdout",
     "output_type": "stream",
     "text": [
      "[('行政办公人员', 0.8384415), ('国家机关及其工作机构负责人', 0.70208955), ('事业单位负责人', 0.66168), ('水利设施管理养护人员', 0.6298654), ('餐饮服务人员', 0.6090056), ('医疗卫生辅助服务人员', 0.6074314), ('其他商业、服务业人员', 0.6060941), ('经济业务人员', 0.6056712), ('中国共产党中央委员会和地方各级党组织负责人', 0.59250313), ('企业负责人', 0.57851034), ('民主党派和社会团体及其工作机构负责人', 0.5741825), ('金融业务人员', 0.57001483), ('仓储人员', 0.5691401), ('运输服务人员', 0.550826), ('教学人员', 0.549204), ('农业技术人员', 0.5424037), ('体育工作人员', 0.53965616), ('邮政和电信业务人员', 0.5344682), ('法律专业人员', 0.5297252), ('渔业生产人员', 0.5201298), ('其他生产、运输设备操作人员及有关部门人员', 0.5101119), ('卫生专业技术人员', 0.50958884), ('饭店、旅游及健身娱乐场所服务人员', 0.5052234), ('工程技术人员', 0.50258315), ('工程施工人员', 0.49344718), ('畜牧业生产人员', 0.48981726), ('安全保卫和消防人员', 0.47450414), ('文化体育、体育用品制作人员', 0.47443485), ('广播影视制品制作、播放及文物保护作业人员', 0.47044438), ('文学艺术工作人员', 0.46932214), ('其他办事人员和有关人员', 0.46406192), ('其他专业技术人员', 0.46238706), ('运输设备操作人员及有关人员', 0.45915383), ('印刷人员', 0.4468245), ('社会服务和居民生活服务人员', 0.44418132), ('环境监测与废物处理人员', 0.44313437), ('新闻出版、文化工作人员', 0.4418826), ('不便分类的其他从业人员', 0.4376296), ('飞机和船舶技术人员', 0.4363675), ('勘测及矿物开采人员', 0.43338308), ('机械设备修理人员', 0.4316948), ('购销人员', 0.42727214), ('药品生产人员', 0.42660367), ('科学研究人员', 0.42645863), ('机电产品装配人员', 0.42110276), ('电力设备安装、运行、检修及供电人员', 0.41234475), ('种植业生产人员', 0.40746573), ('纺织、针织、印染人员', 0.40379888), ('建筑材料生产加工人员', 0.4013093), ('机械制造加工人员', 0.3896204), ('玻璃、陶瓷、搪瓷及其制品生产加工人员', 0.38699836), ('林业生产及野生动植物保护人员', 0.38198858), ('化工产品生产能力人员', 0.38063484), ('工艺、美术品制作人员', 0.38009095), ('粮油、食品、饮料生产加工及饲料生产加工人员', 0.37867433), ('烟草及其制造加工人员', 0.37051207), ('金属冶炼、轧制人员', 0.36693406), ('电子元器件与设备制造、装配调试及维修人员', 0.36553836), ('检验、计量人员', 0.34779572), ('木材加工、人造板生产及木材制品制作人员', 0.3426944), ('橡胶和塑料制品生产人员', 0.34174275), ('制浆、造纸和纸制品生产加工人员', 0.3270493), ('宗教职业者', 0.3147546), ('裁剪缝纫和皮革、毛皮制品加工人员', 0.31144276), ('其他农、林、牧、渔、水利业生产人员', 0.2823187), ('军人', 0.18887903)]\n"
     ]
    }
   ],
   "source": [
    "job_scores=dict()   \n",
    "for job in jobs:\n",
    "    for title in job:\n",
    "        job_scores[title]=word_vectors.n_similarity(jieba_cut(title), jieba_cut(test_input))\n",
    "        \n",
    "job_scores = sorted(job_scores.items(),key=lambda d:d[1],reverse=True)\n",
    "print(job_scores)"
   ]
  },
  {
   "cell_type": "code",
   "execution_count": 68,
   "id": "wound-operations",
   "metadata": {},
   "outputs": [
    {
     "name": "stdout",
     "output_type": "stream",
     "text": [
      "其他/农/、/林/、/牧/、/渔/、/水利/水利业/生产/人员\n"
     ]
    }
   ],
   "source": [
    "\n",
    "model\n",
    "print(\"/\".join(seg_list))"
   ]
  },
  {
   "cell_type": "code",
   "execution_count": null,
   "id": "serious-noise",
   "metadata": {},
   "outputs": [],
   "source": []
  }
 ],
 "metadata": {
  "kernelspec": {
   "display_name": "Python 3",
   "language": "python",
   "name": "python3"
  },
  "language_info": {
   "codemirror_mode": {
    "name": "ipython",
    "version": 3
   },
   "file_extension": ".py",
   "mimetype": "text/x-python",
   "name": "python",
   "nbconvert_exporter": "python",
   "pygments_lexer": "ipython3",
   "version": "3.7.5"
  }
 },
 "nbformat": 4,
 "nbformat_minor": 5
}
