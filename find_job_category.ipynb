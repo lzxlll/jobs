{
 "cells": [
  {
   "cell_type": "code",
   "execution_count": 27,
   "id": "empirical-blackberry",
   "metadata": {},
   "outputs": [
    {
     "name": "stderr",
     "output_type": "stream",
     "text": [
      "Paddle enabled successfully......\n"
     ]
    }
   ],
   "source": [
    "from gensim import corpora, models, similarities\n",
    "from gensim.models import Word2Vec,keyedvectors \n",
    "from gensim.models.word2vec import LineSentence\n",
    "from gensim.corpora import Dictionary\n",
    "import jieba.posseg as jp, jieba\n",
    "import pandas as pd\n",
    "import numpy as np\n",
    "from string import punctuation\n",
    "import re\n",
    "\n",
    "jieba.enable_paddle()\n",
    "\n",
    "add_punc='，。、【 】 “”：；（）《》‘’{}？！⑦()、%^>℃：.”“^-——=&#@￥'\n",
    "all_punc=punctuation+add_punc"
   ]
  },
  {
   "cell_type": "code",
   "execution_count": 8,
   "id": "political-track",
   "metadata": {},
   "outputs": [],
   "source": [
    "model_path='./model/baike_26g_news_13g_novel_229g.model'\n",
    "job_path='./model/职业分类大典.xlsx'\n",
    "job_post_path='./model/招聘20210611.xlsx'\n",
    "test_input=\"前台行政\""
   ]
  },
  {
   "cell_type": "code",
   "execution_count": 4,
   "id": "unlikely-above",
   "metadata": {},
   "outputs": [],
   "source": [
    "model=Word2Vec.load(model_path)\n",
    "word_vectors = model.wv"
   ]
  },
  {
   "cell_type": "code",
   "execution_count": 66,
   "id": "printable-comedy",
   "metadata": {},
   "outputs": [],
   "source": [
    "#jieba精准分词\n",
    "def jieba_cut(sentence, word_vectors):\n",
    "    word_list = []\n",
    "    seg_list = jieba.cut_for_search(sentence)\n",
    "    for word in seg_list:\n",
    "        if word != '' and word is not None and word not in all_punc and word in word_vectors.key_to_index:\n",
    "            word_list.append(word)\n",
    "    return word_list\n"
   ]
  },
  {
   "cell_type": "code",
   "execution_count": 49,
   "id": "unlimited-killer",
   "metadata": {},
   "outputs": [],
   "source": [
    "# Load job list\n",
    "data = pd.read_excel(job_path, keep_default_na=False)\n",
    "job_dictionary = pd.DataFrame(data, columns= ['细类'])\n",
    "job_dictionary.replace('', np.nan, inplace=True)\n",
    "job_dictionary.dropna(inplace=True)\n",
    "job_dictionary.drop_duplicates(keep='first',inplace=True)\n",
    "job_categories = job_dictionary.values.tolist()"
   ]
  },
  {
   "cell_type": "code",
   "execution_count": 85,
   "id": "spatial-transsexual",
   "metadata": {},
   "outputs": [],
   "source": [
    "def find_job_category(job_name, job_categories):\n",
    "    job_scores=dict()   \n",
    "    for job in job_categories:\n",
    "        for title in job:\n",
    "            title_list = jieba_cut(title, word_vectors)\n",
    "            job_name_list = jieba_cut(job_name, word_vectors)\n",
    "            if title_list and job_name_list:\n",
    "                job_scores[title]=word_vectors.n_similarity(title_list,job_name_list) \n",
    "\n",
    "    job_scores = sorted(job_scores.items(),key=lambda d:d[1],reverse=True)\n",
    "    # Return top job\n",
    "    return job_scores"
   ]
  },
  {
   "cell_type": "code",
   "execution_count": 37,
   "id": "prerequisite-currency",
   "metadata": {},
   "outputs": [],
   "source": [
    "# keep chinese only\n",
    "def keep_all_chinese(file):\n",
    "    pattern = re.compile(r'[^\\u4e00-\\u9fa5]')\n",
    "    chinese=re.sub(pattern,'',file)\n",
    "    return chinese"
   ]
  },
  {
   "cell_type": "code",
   "execution_count": 38,
   "id": "portuguese-thickness",
   "metadata": {},
   "outputs": [],
   "source": [
    "# read test jobs\n",
    "posted_jobs_data = pd.read_excel(job_post_path, keep_default_na=False)\n",
    "posted_jobs = pd.DataFrame(posted_jobs_data, columns= ['职位名称']).values.tolist()"
   ]
  },
  {
   "cell_type": "code",
   "execution_count": 75,
   "id": "contrary-topic",
   "metadata": {},
   "outputs": [],
   "source": [
    "# find job category list\n",
    "#job_list=[]\n",
    "#for job in job_categories:\n",
    "#    for title in job:\n",
    "#        job_list.append(jieba_cut(title,word_vectors))"
   ]
  },
  {
   "cell_type": "code",
   "execution_count": 89,
   "id": "split-apollo",
   "metadata": {},
   "outputs": [
    {
     "ename": "IndexError",
     "evalue": "list index out of range",
     "output_type": "error",
     "traceback": [
      "\u001b[0;31m---------------------------------------------------------------------------\u001b[0m",
      "\u001b[0;31mIndexError\u001b[0m                                Traceback (most recent call last)",
      "\u001b[0;32m<ipython-input-89-e8ce2adf3f00>\u001b[0m in \u001b[0;36m<module>\u001b[0;34m\u001b[0m\n\u001b[1;32m      4\u001b[0m     \u001b[0mpost_job_chinese\u001b[0m\u001b[0;34m=\u001b[0m\u001b[0mkeep_all_chinese\u001b[0m\u001b[0;34m(\u001b[0m\u001b[0mpost_job\u001b[0m\u001b[0;34m[\u001b[0m\u001b[0;36m0\u001b[0m\u001b[0;34m]\u001b[0m\u001b[0;34m)\u001b[0m\u001b[0;34m\u001b[0m\u001b[0;34m\u001b[0m\u001b[0m\n\u001b[1;32m      5\u001b[0m     \u001b[0mjob_scores\u001b[0m \u001b[0;34m=\u001b[0m \u001b[0mfind_job_category\u001b[0m\u001b[0;34m(\u001b[0m\u001b[0mpost_job_chinese\u001b[0m\u001b[0;34m,\u001b[0m \u001b[0mjob_categories\u001b[0m\u001b[0;34m)\u001b[0m\u001b[0;34m\u001b[0m\u001b[0;34m\u001b[0m\u001b[0m\n\u001b[0;32m----> 6\u001b[0;31m     \u001b[0mprint\u001b[0m\u001b[0;34m(\u001b[0m\u001b[0;34m'post_job: {} category&scores: {}'\u001b[0m\u001b[0;34m.\u001b[0m\u001b[0mformat\u001b[0m\u001b[0;34m(\u001b[0m\u001b[0mpost_job\u001b[0m\u001b[0;34m,\u001b[0m \u001b[0mjob_scores\u001b[0m\u001b[0;34m[\u001b[0m\u001b[0;36m0\u001b[0m\u001b[0;34m]\u001b[0m\u001b[0;34m)\u001b[0m\u001b[0;34m,\u001b[0m \u001b[0mfile\u001b[0m\u001b[0;34m=\u001b[0m\u001b[0mf\u001b[0m\u001b[0;34m)\u001b[0m\u001b[0;34m\u001b[0m\u001b[0;34m\u001b[0m\u001b[0m\n\u001b[0m\u001b[1;32m      7\u001b[0m \u001b[0;34m\u001b[0m\u001b[0m\n\u001b[1;32m      8\u001b[0m \u001b[0mf\u001b[0m\u001b[0;34m.\u001b[0m\u001b[0mclose\u001b[0m\u001b[0;34m(\u001b[0m\u001b[0;34m)\u001b[0m\u001b[0;34m\u001b[0m\u001b[0;34m\u001b[0m\u001b[0m\n",
      "\u001b[0;31mIndexError\u001b[0m: list index out of range"
     ]
    }
   ],
   "source": [
    "f = open(\"result.txt\", \"a\")\n",
    "\n",
    "for post_job in posted_jobs:\n",
    "    post_job_chinese=keep_all_chinese(post_job[0])\n",
    "    job_scores = find_job_category(post_job_chinese, job_categories)\n",
    "    print('post_job: {} category&scores: {}'.format(post_job, job_scores[0]), file=f)\n",
    "\n",
    "f.close()"
   ]
  },
  {
   "cell_type": "code",
   "execution_count": null,
   "id": "closed-september",
   "metadata": {},
   "outputs": [],
   "source": [
    "print(job_categories)"
   ]
  },
  {
   "cell_type": "code",
   "execution_count": null,
   "id": "controversial-steering",
   "metadata": {},
   "outputs": [],
   "source": []
  }
 ],
 "metadata": {
  "kernelspec": {
   "display_name": "Python 3",
   "language": "python",
   "name": "python3"
  },
  "language_info": {
   "codemirror_mode": {
    "name": "ipython",
    "version": 3
   },
   "file_extension": ".py",
   "mimetype": "text/x-python",
   "name": "python",
   "nbconvert_exporter": "python",
   "pygments_lexer": "ipython3",
   "version": "3.7.5"
  }
 },
 "nbformat": 4,
 "nbformat_minor": 5
}
